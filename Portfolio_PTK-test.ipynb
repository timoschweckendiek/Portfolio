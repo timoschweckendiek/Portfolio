{
 "cells": [
  {
   "attachments": {},
   "cell_type": "markdown",
   "metadata": {},
   "source": [
    "# Portfoliobenadering betrouwbaarheidseisen\n",
    "Faalfrequenties en betrouwbaarheidseisen voor grote aantallen vergelijkbare constructies in relatie tot de NEN 8700.\n",
    "\n",
    "## Uitgangspunten en definities"
   ]
  },
  {
   "attachments": {},
   "cell_type": "markdown",
   "metadata": {},
   "source": [
    "### Grenstoestandsfunctie\n",
    "$ Z = p * m_R * R - a_Q * m_Q * Q - (1 - a_Q) * G$\n",
    "\n",
    "met \n",
    "- $p$ = design parameter (verhouding sterkte/belasting)\n",
    "- $m_R$ = modelonzekerheid sterkte (tijdsonafhankelijk, volledig gecorreleerd in de tijd; volledige correlatie tussen constructies)\n",
    "- $R$ = sterkte (tijdsonafhankelijk, volledig gecorreleerd in de tijd; geen correlatie tussen constructies)\n",
    "- $a_Q$ = aandeel veranderlijke belasting ($=mu_Q/mu_G$)\n",
    "- $m_Q$ = modelonzekerheid veranderlijke belasting (tijdsonafhankelijk, volledig gecorreleerd in de tijd; volledige correlatie tussen constructies)\n",
    "- $Q$ = veranderlijke belasting (tijdsafhankelijk, ongecorreleerd tussen jaren; geen correlatie tussen constructies)\n",
    "- $G$ = permanente belasting (eigen gewicht; volledig gecorreleerd in de tijd; geen correlatie tussen constructies)"
   ]
  },
  {
   "cell_type": "code",
   "execution_count": 3,
   "metadata": {},
   "outputs": [],
   "source": [
    "def LimitStateFunction(p, mR, R, aQ, mQ, Q, G):\n",
    "    Z = p * mR * R - aQ *  mQ *Q - (1-aQ) * G\n",
    "    return Z"
   ]
  },
  {
   "attachments": {},
   "cell_type": "markdown",
   "metadata": {},
   "source": [
    "### Unity check\n",
    "$ UC = p * R_{kar} / \\gamma_R - a_Q * Q_{kar} * \\gamma_Q - (1 - a_Q) * G_{kar}$\n",
    "\n",
    "met \n",
    "- $p$ = design parameter (verhouding sterkte/belasting)\n",
    "- $R_{kar}$ = karakteristieke waarde sterkte (5%-kwantiel $R$)\n",
    "- $a_Q$ = aandeel veranderlijke belasting\n",
    "- $Q_{kar}$ = karakteristieke waarde veranderlijke belasting (98%-kwantiel $Q$)\n",
    "- $G_{kar}$ = karakteristieke waarde permanente belasting (50%-kwantiel $G$)"
   ]
  },
  {
   "cell_type": "code",
   "execution_count": 4,
   "metadata": {},
   "outputs": [],
   "source": [
    "from scipy.stats import norm\n",
    "\n",
    "def UnityCheck(p, V_R, gamma_R, V_Q, gamma_Q):\n",
    "    R_kar = 1 - 1.645 * V_R\n",
    "    Q_kar = norm.ppf(0.98, loc = 1, scale = V_Q)\n",
    "    G_kar = 1\n",
    "    UC = (aQ * Q_kar * gamma_Q + (1-aQ) * G_kar) / (p * R_kar / gamma_R)\n",
    "    return UC"
   ]
  },
  {
   "attachments": {},
   "cell_type": "markdown",
   "metadata": {},
   "source": [
    "**Determine p for given UC**"
   ]
  },
  {
   "cell_type": "code",
   "execution_count": 5,
   "metadata": {},
   "outputs": [],
   "source": [
    "def Get_P_for_UC(UC, V_R, gamma_R, V_Q, gamma_Q):\n",
    "    R_kar = 1 - 1.645 * V_R\n",
    "    Q_kar = norm.ppf(0.98, loc = 1, scale = V_Q)\n",
    "    G_kar = 1\n",
    "    p =  (aQ * Q_kar * gamma_Q + (1-aQ) * G_kar) / (UC * R_kar / gamma_R)\n",
    "    return p"
   ]
  },
  {
   "attachments": {},
   "cell_type": "markdown",
   "metadata": {},
   "source": [
    "### Variatiecoefficienten\n",
    "voor genormaliseerde stochasten (c.q. gemiddelden gelijk aan 1)"
   ]
  },
  {
   "cell_type": "code",
   "execution_count": 6,
   "metadata": {},
   "outputs": [],
   "source": [
    "V_mR = 0.12\n",
    "V_R = 0.15\n",
    "V_mQ = 0.1\n",
    "V_Q = 0.15\n",
    "V_G = 0.05"
   ]
  },
  {
   "attachments": {},
   "cell_type": "markdown",
   "metadata": {},
   "source": [
    "### Partiele factoren"
   ]
  },
  {
   "cell_type": "code",
   "execution_count": 7,
   "metadata": {},
   "outputs": [],
   "source": [
    "gamma_R = 1.1\n",
    "gamma_Q = 1.05"
   ]
  },
  {
   "attachments": {},
   "cell_type": "markdown",
   "metadata": {},
   "source": [
    "## Analyse\n",
    "### Bereken unity check (UC)"
   ]
  },
  {
   "cell_type": "code",
   "execution_count": 8,
   "metadata": {},
   "outputs": [
    {
     "name": "stdout",
     "output_type": "stream",
     "text": [
      "UC =  1.009918088174972\n"
     ]
    }
   ],
   "source": [
    "aQ = 0.1\n",
    "p = 1.50\n",
    "UC = UnityCheck(p, V_R, gamma_R, V_Q, gamma_Q)\n",
    "print('UC = ', UC)"
   ]
  },
  {
   "attachments": {},
   "cell_type": "markdown",
   "metadata": {},
   "source": [
    "### Faalkansanalyse met Probabilistic Toolkit (PTK)"
   ]
  },
  {
   "cell_type": "code",
   "execution_count": 9,
   "metadata": {},
   "outputs": [
    {
     "name": "stdout",
     "output_type": "stream",
     "text": [
      "beta =  1.74945167152741\n",
      "Pf =  0.0401064446634775\n"
     ]
    }
   ],
   "source": [
    "import sys, os\n",
    "sys.path.append(\"C:\\Program Files (x86)\\Deltares\\Probabilistic toolkit\\Python\")\n",
    "import toolkit\n",
    "\n",
    "PTKfile = 'Portfolio_v1'\n",
    "\n",
    "toolkit.Initialize()\n",
    "toolkit.Load(os.path.abspath(f\"{PTKfile}.tkx\"))\n",
    "toolkit.SetVariableValue('p', \"Mean\", p)\n",
    "toolkit.SetVariableValue('aQ', \"Mean\", aQ)\n",
    "toolkit.Run()\n",
    "\n",
    "# retrieve results\n",
    "vars = toolkit.GetVariables()\n",
    "\n",
    "beta = toolkit.GetReliabilityIndex()\n",
    "Pf = toolkit.GetProbabilityFailure()\n",
    "alphas=[]\n",
    "DPvalues=[]\n",
    "for var in vars[:-1]:\n",
    "    alphas.append(toolkit.GetAlpha(var))\n",
    "    DPvalues.append(toolkit.GetAlphaPhysical(var))\n",
    "\n",
    "results = {\"p\": [],\n",
    "            \"aQ\": [],\n",
    "            \"UC\": [],\n",
    "            \"Beta\": [],\n",
    "            \"Pf\": [],\n",
    "            \"alphas\": [],\n",
    "            \"DPvalues\": [],\n",
    "            \"VarNames\": []}\n",
    "\n",
    "results[\"p\"].append(p)\n",
    "results[\"aQ\"].append(aQ)\n",
    "results[\"UC\"].append(float(UC))\n",
    "results[\"Beta\"].append(float(beta))\n",
    "results[\"Pf\"].append(float(Pf))\n",
    "results[\"alphas\"].append(list(map(float, alphas)))\n",
    "results[\"DPvalues\"].append(list(map(float, DPvalues)))\n",
    "results[\"VarNames\"].append(vars)\n",
    "\n",
    "toolkit.Exit()\n",
    "\n",
    "print('beta = ', beta)\n",
    "print('Pf = ', Pf)\n"
   ]
  }
 ],
 "metadata": {
  "kernelspec": {
   "display_name": "base",
   "language": "python",
   "name": "python3"
  },
  "language_info": {
   "codemirror_mode": {
    "name": "ipython",
    "version": 3
   },
   "file_extension": ".py",
   "mimetype": "text/x-python",
   "name": "python",
   "nbconvert_exporter": "python",
   "pygments_lexer": "ipython3",
   "version": "3.9.13"
  },
  "orig_nbformat": 4,
  "vscode": {
   "interpreter": {
    "hash": "ad2bdc8ecc057115af97d19610ffacc2b4e99fae6737bb82f5d7fb13d2f2c186"
   }
  }
 },
 "nbformat": 4,
 "nbformat_minor": 2
}
