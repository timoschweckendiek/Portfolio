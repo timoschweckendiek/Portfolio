{
 "cells": [
  {
   "attachments": {},
   "cell_type": "markdown",
   "metadata": {},
   "source": [
    "# Portfoliobenadering betrouwbaarheidseisen\n",
    "De betrouwbaarheidseisen in de NEN 8700 (bv. $\\beta_T = 1.8$ voor afkeurniveau CC1b) hebben betrekking op individuele constructies. Asset owners met grote aantallen constructies in hun portfolio moeten zich afvragen of hanteren van het wettelijke (publiekrechtelijke) afkeurniveau wenselijk is in verband met potentieel onwenselijk hoge schadefrequenties frequenties in hun asset portfolio. Dit was ook de aanleiding voor RWS om het gebruiksniveau voor bruggen in te stellen.\n",
    "\n",
    "In onderstaande analyse wordt nagegaan welke schadefrequenties te verwachten zijn bij hanteren van het afkeurniveau uit de NEN 8700, ervan uitgaande dat kademuren grotendeels in gevolgklasse CC1b vallen.\n",
    "\n",
    "## Uitgangspunten en definities\n",
    "Hieronder volgen de uitgangspunten en definities voor de analyse, te weten:\n",
    "- parameters relevant voor het portfolio van kademuren in Amsterdam (en hun toetsing)\n",
    "- grenstoestandsfunctie (voor de faalkansanalyse per constructie)\n",
    "- unity check (UC) definitie\n",
    "- onzekerheden (variatiecoefficienten)\n",
    "- partiele factoren"
   ]
  },
  {
   "attachments": {},
   "cell_type": "markdown",
   "metadata": {},
   "source": [
    "### Portfolio kademuren\n",
    "De volgende parameters zijn relevant voor de portfolio analyse:\n",
    "- het aantal (\"onafhankelijke kades\"): $n_{kades}$\n",
    "- de referentieperiode van de faalkans en UC (belastingstatistiek): $t_{ref}$\n",
    "- de te toetsen restlevensduur: $t_{rest}$\n",
    "- het aandeel constructies dat naar verwachting goedgekeurd wordt voor de restlevensduur: $goed$\n",
    "\n",
    "In de analyse wordt vervolgens ervan uitgegaan dat afgekeurde constructies worden versterkt, en dat deze na versterking een verwaarloosbare faalkans hebben t.o.v. de bestaande portfolio. Voor de het schatten van de schadefrequentie wordt dat ook uitgegaan van het aantal goedgekeurde kades: $n_{con} = n_{kades} * goed$\n",
    "\n",
    "Belangrijk voor de analyse (met name de correlatie tussen constructies) is het aandeel veranderlijke belasting ten opzichte van de permanente belasting, uitgedrukt in parameter $a_Q$ (zie definitie onder 'Grenstoestandsfunctie'). \n",
    "\n",
    "Verder kan ervan worden uitgegaan dat niet alle goedgekeurde kades (voor de kritieke grenstoestand) precies voldoen aan de afkeureis (cq. $UC = 1$), maar met enige marge. Dit wordt meegenomen door een range van UC waarden te beschouwen voor de goegekeurde constructies (hier met een uniforme verdeling tussen $UC_{range}$).\n",
    "\n",
    "Daarnaast betekent het overschrijden van de grenstoestand niet automatisch schade of instorten. In deze analyse wordt hiermee rekening gehouden door een conditionele kans op schade (bij overschrijden grenstoestand) te hanteren: *p_cond_damage*.\n",
    "\n",
    "#### Parameters:"
   ]
  },
  {
   "cell_type": "code",
   "execution_count": 2,
   "metadata": {},
   "outputs": [],
   "source": [
    "import numpy as np\n",
    "\n",
    "n_kades = 300\n",
    "t_ref = 15\n",
    "t_rest = 15\n",
    "goed = 0.9\n",
    "n_con = int(round(n_kades * goed))\n",
    "aQ = 0.1\n",
    "UC_range = np.array([0.7, 1.0])\n",
    "p_cond_damage = 0.1"
   ]
  },
  {
   "attachments": {},
   "cell_type": "markdown",
   "metadata": {},
   "source": [
    "### Grenstoestandsfunctie\n",
    "Voor de grenstoestandsfunctie wordt een generieke Z-functie gebruikt met genormaliseerde stochasten, vergelijkbaar met kalibratiestudies voor de Eurocodes. Hierbij wordt onderscheid gemaakt tussen sterkte en belasting (veranderling en permanent), en de gerelateerde modelonzekerheden. De design parameter $p$ zorgt dan voor de juiste verhouding van sterkte en belasting om aan de eisen te voldoen (bv. betrouwbaarheidsindex $\\beta_T$ of unity check (UC). Bij de parameters wordt vermeld inhoeverrde deze gecorreleerd zijn tussen constructies (kades) en in de tijd. Deze correlatie is belangrijk voor het niet overschatten van faalkansen en schadefrequenties. \n",
    "\n",
    "$Z = p * m_R * R - a_Q * m_Q * Q - (1 - a_Q) * G$\n",
    "\n",
    "met \n",
    "- $p$ = design parameter (verhouding sterkte/belasting)\n",
    "- $m_R$ = modelonzekerheid sterkte (tijdsonafhankelijk, volledig gecorreleerd in de tijd; volledige correlatie tussen constructies)\n",
    "- $R$ = sterkte (tijdsonafhankelijk, volledig gecorreleerd in de tijd; geen correlatie tussen constructies)\n",
    "- $a_Q$ = aandeel veranderlijke belasting van totale belasting (cq. veranderlijk plus permanent)\n",
    "- $m_Q$ = modelonzekerheid veranderlijke belasting (tijdsonafhankelijk, volledig gecorreleerd in de tijd; volledige correlatie tussen constructies)\n",
    "- $Q$ = veranderlijke belasting (tijdsafhankelijk, ongecorreleerd tussen jaren; geen correlatie tussen constructies)\n",
    "- $G$ = permanente belasting (eigen gewicht; volledig gecorreleerd in de tijd; geen correlatie tussen constructies)"
   ]
  },
  {
   "cell_type": "code",
   "execution_count": 3,
   "metadata": {},
   "outputs": [],
   "source": [
    "def LimitStateFunction(p, mR, R, aQ, mQ, Q, G):\n",
    "    Z = p * mR * R - aQ *  mQ *Q - (1-aQ) * G\n",
    "    return Z"
   ]
  },
  {
   "attachments": {},
   "cell_type": "markdown",
   "metadata": {},
   "source": [
    "### Variatiecoefficienten\n",
    "Zoals hierboven beschreven gebruikt de grenstoestandsfunctie genormaliseerde stochasten, met verwachtingswaarden gelijk aan 1. De relatieve onzekerheid per variabele wordt uitgedrukt in de variatiecoefficienten zoals hieronder gedefinieerd. De getalswaarden betreffen schattingen die vergelijkbaar zijn met kalibratiestudies voor de Eurocodes."
   ]
  },
  {
   "cell_type": "code",
   "execution_count": 4,
   "metadata": {},
   "outputs": [],
   "source": [
    "V_mR = 0.12\n",
    "V_R = 0.15\n",
    "V_mQ = 0.1\n",
    "V_Q = 0.15\n",
    "V_G = 0.05"
   ]
  },
  {
   "attachments": {},
   "cell_type": "markdown",
   "metadata": {},
   "source": [
    "### Unity check (UC)\n",
    "De unity check (UC) gebruikt dezelfde grootheden als de grenstoestandsfunctie hierboven, alleen worden er in plaats van stochasten karakteristieke waarden in combinatie met partiele factoren gebruikt volgende de Eurocode conventies, en de getalswaarden voor bestaande constructies uit de NEN 8700 serie. De karakteristieke waarden worden eveneens volgens Eurocode conventies bepaald bij een bepaald kwantiel.\n",
    "\n",
    "$UC = p * R_{kar} / \\gamma_R - a_Q * Q_{kar} * \\gamma_Q - (1 - a_Q) * G_{kar}$\n",
    "\n",
    "met \n",
    "- $p$ = design parameter (verhouding sterkte/belasting)\n",
    "- $R_{kar}$ = karakteristieke waarde sterkte (5%-kwantiel $R$)\n",
    "- $a_Q$ = aandeel veranderlijke belasting\n",
    "- $Q_{kar}$ = karakteristieke waarde veranderlijke belasting (98%-kwantiel $Q$, cq. overschrijding gemiddeld eens per 50 jaar)\n",
    "- $G_{kar}$ = karakteristieke waarde permanente belasting (50%-kwantiel $G$)\n",
    "\n",
    "Voor het bepalen van de kwantielen wordt net als in de faalkansanalyse bij benadering uitgegaan van normale verdelingen."
   ]
  },
  {
   "cell_type": "code",
   "execution_count": 5,
   "metadata": {},
   "outputs": [],
   "source": [
    "from scipy.stats import norm\n",
    "\n",
    "def UnityCheck(p, V_R, gamma_R, V_Q, gamma_Q):  # bepaal UC for gegeven p (design parameter)\n",
    "    R_kar = 1 - 1.645 * V_R\n",
    "    Q_kar = norm.ppf(0.98, loc = 1, scale = V_Q)\n",
    "    G_kar = 1\n",
    "    UC = (aQ * Q_kar * gamma_Q + (1-aQ) * G_kar) / (p * R_kar / gamma_R)\n",
    "    return UC\n",
    "\n",
    "def Get_P_for_UC(UC, V_R, gamma_R, V_Q, gamma_Q):  # bepaal p (design parameter) for gegeven UC\n",
    "    R_kar = 1 - 1.645 * V_R\n",
    "    Q_kar = norm.ppf(0.98, loc = 1, scale = V_Q)\n",
    "    G_kar = 1\n",
    "    p =  (aQ * Q_kar * gamma_Q + (1-aQ) * G_kar) / (UC * R_kar / gamma_R)\n",
    "    return p"
   ]
  },
  {
   "attachments": {},
   "cell_type": "markdown",
   "metadata": {},
   "source": [
    "### Partiele factoren\n",
    "De partiele factoren in NEN 8700 zijn gekoppeld aan de gevolgklasse en de belastingsituatie."
   ]
  },
  {
   "cell_type": "code",
   "execution_count": 6,
   "metadata": {},
   "outputs": [],
   "source": [
    "gamma_R = 1.1  # CC1b\n",
    "gamma_Q = 1.05  # CC1b"
   ]
  },
  {
   "attachments": {},
   "cell_type": "markdown",
   "metadata": {},
   "source": [
    "## Analyse"
   ]
  },
  {
   "attachments": {},
   "cell_type": "markdown",
   "metadata": {},
   "source": [
    "### Faalkansanalyse (MCS met numpy)\n",
    "#### Realisaties stochasten en evaluatie grenstoestandsfunctie"
   ]
  },
  {
   "cell_type": "code",
   "execution_count": 7,
   "metadata": {},
   "outputs": [],
   "source": [
    "p_range = Get_P_for_UC(UC_range, V_R, gamma_R, V_Q, gamma_Q)\n",
    "# p = 1.50  # design parameter ('verhouding sterkte versus belasting gemiddeld')\n",
    "\n",
    "n_mcs = int(5e+4)  # aantal realisaties in Monte Carlo analyse\n",
    "\n",
    "np.random.seed(None)\n",
    "UC = np.random.uniform(UC_range.min(), UC_range.max(), n_con)\n",
    "p = Get_P_for_UC(UC, V_R, gamma_R, V_Q, gamma_Q)\n",
    "mR = np.random.randn(n_mcs) * V_mR + 1.0\n",
    "R = np.random.randn(n_mcs, n_con) * V_R + 1.0\n",
    "mQ = np.random.randn(n_mcs) * V_mQ + 1.0\n",
    "Q = np.random.randn(n_mcs, n_con) * V_mQ + 1.0\n",
    "G = np.random.randn(n_mcs, n_con) * V_G + 1.0\n",
    "\n",
    "for con in range(0, n_con):\n",
    "    Zi = LimitStateFunction(p[con], mR, R[:,con], aQ, mQ, Q[:,con], G[:,con])\n",
    "    if con == 0:\n",
    "        Z = Zi\n",
    "    else:\n",
    "        # Z = np.append(Z, Zi).reshape((n_mcs, con+1)) # reshape werkt niet als bedoeld...\n",
    "        Z = np.column_stack((Z, Zi))\n"
   ]
  },
  {
   "attachments": {},
   "cell_type": "markdown",
   "metadata": {},
   "source": [
    "#### Bepalen faalkansen en schadefrequenties"
   ]
  },
  {
   "cell_type": "code",
   "execution_count": 8,
   "metadata": {},
   "outputs": [],
   "source": [
    "Fail = Z<0\n",
    "Damage = p_cond_damage * Fail\n",
    "Pf_con = Fail.sum(axis=0)/n_mcs\n",
    "beta_con = norm.ppf(1-Pf_con)\n",
    "Pf_con_gem = np.average(Pf_con)\n",
    "beta_con_gem = norm.ppf(1-Pf_con_gem)\n",
    "\n",
    "Pf_port_onafh = 1 - np.prod((1-Pf_con))\n",
    "\n",
    "n_fail_port = Fail.sum(axis=1)\n",
    "Pf_port = sum(n_fail_port>0) / n_mcs \n",
    "EF_port = n_fail_port.sum(axis=0)/n_mcs\n",
    "\n",
    "PD_port = Pf_port * p_cond_damage\n",
    "ED_port = EF_port * p_cond_damage"
   ]
  },
  {
   "attachments": {},
   "cell_type": "markdown",
   "metadata": {},
   "source": [
    "### Resultaten\n",
    "In de resultaten hieronder wordt onderscheid gemaakt tussen falen en schade:\n",
    "- Falen voor een constructie houdt in dat de grenstoestand overschreden wordt. Dat impliceert niet meteen schade of instorten.\n",
    "- De faalkans voor het portfolio heeft betrekking op de kans op het falen van minimaal 1 constructie in het portfolio (in de restlevensduur).\n",
    "- De verwachtingswaarde falen is de verwachtingswaarde voor het aantal gefaalde constructies in de restlevensduur. Let wel, er kunnen meerdere constructies tegelijk falen.\n",
    "- Het verschil tussen schade en falen zit in de conditionele kans op schade gegeven falen, wat rekening houdt met het feit dat er in de formulering van de grenstoestand nog verborgen sterktes zitten, en dat constructies herverdelingscapaciteit hebben."
   ]
  },
  {
   "cell_type": "code",
   "execution_count": 10,
   "metadata": {},
   "outputs": [
    {
     "name": "stdout",
     "output_type": "stream",
     "text": [
      "Aantal goedgekeurde constructies: 270\n",
      "Range UC-waarden (uniforme verdeling): [0.7 1. ]\n",
      "Faalkans per constructie (gemiddeld): 9.8e-03\n",
      "Beta per constructie (gemiddeld): 2.33\n",
      "Faalkans portfolio (minimaal 1 kade, per 15 jaar) \"onafhankelijk\": 0.93\n",
      "Faalkans portfolio (minimaal 1 kade, per 15 jaar) met correlatie: 0.6\n",
      "Verwachtingswaarde falen (per 15 jaar): 2.65\n",
      "Schadekans portfolio (per 15 jaar) 0.06\n",
      "Verwachtingswaarde schades (per 15 jaar): 0.27\n",
      "Verwachtingswaarde schades (per jaar): 0.018 (benadering)\n"
     ]
    }
   ],
   "source": [
    "\n",
    "print('Aantal goedgekeurde constructies:', n_con )\n",
    "print('Range UC-waarden (uniforme verdeling):', UC_range)\n",
    "print('Faalkans per constructie (gemiddeld):', '{:.1e}'.format(Pf_con_gem))\n",
    "print('Beta per constructie (gemiddeld):', round(beta_con_gem,2))\n",
    "print('Faalkans portfolio (minimaal 1 kade, per 15 jaar) \"onafhankelijk\":', round(Pf_port_onafh,2))\n",
    "print('Faalkans portfolio (minimaal 1 kade, per 15 jaar) met correlatie:', round(Pf_port,2))\n",
    "print('Verwachtingswaarde falen (per 15 jaar):', round(EF_port,2))\n",
    "print('Schadekans portfolio (per 15 jaar)', round(PD_port,2))\n",
    "print('Verwachtingswaarde schades (per 15 jaar):', round(ED_port,2))\n",
    "print('Verwachtingswaarde schades (per jaar):', round(ED_port/t_ref, 3), '(benadering)') # benadering: F/n jaar"
   ]
  },
  {
   "attachments": {},
   "cell_type": "markdown",
   "metadata": {},
   "source": [
    "### Figuren"
   ]
  },
  {
   "cell_type": "code",
   "execution_count": 11,
   "metadata": {},
   "outputs": [
    {
     "data": {
      "image/png": "[encoded data removed]",
      "text/plain": [
       "<Figure size 1000x600 with 1 Axes>"
      ]
     },
     "metadata": {},
     "output_type": "display_data"
    }
   ],
   "source": [
    "import matplotlib.pyplot as plt\n",
    "\n",
    "def plot_loghist(x, bins):\n",
    "  hist, bins = np.histogram(x, bins=[1])\n",
    "  logbins = np.logspace(np.log10(bins[0]),np.log10(bins[-1]),len(bins))\n",
    "  plt.hist(x, bins=logbins)\n",
    "  plt.xscale('log')\n",
    "  \n",
    "fig, ax = plt.subplots()\n",
    "# plot_loghist(Pf_con, 10)\n",
    "# ax.set_xticks([1e-4, 1e-3, 1e-2, 0.1, 1])\n",
    "plt.scatter(UC,Pf_con)\n",
    "plt.yscale('log')\n",
    "ax.axhline(y = Pf_con_gem, color = 'b', linestyle = '--', label = 'Pf gemiddeld = %1.1e (ref=15j)'%Pf_con_gem)\n",
    "ax.axhline(y = Pf_port, color = 'b', linestyle = '-', label = 'Pf portfolio = %1.1e (ref=15j)'%Pf_port)\n",
    "ax.axhline(y = PD_port, color = 'r', linestyle = '--', label = 'Schadekans = %.2f (ref=15j)'%PD_port)\n",
    "ax.axhline(y = ED_port, color = 'r', linestyle = '-', label = 'Schadefrequentie = %.2f (ref=15j)'%ED_port)\n",
    "ax.set_yticks([1e-3, 1e-2, 0.1, 1])\n",
    "ax.set_xlabel('UC')\n",
    "ax.set_ylabel('kans of frequentie')\n",
    "fig.set_size_inches(10, 6)\n",
    "plt.legend(loc='upper right')\n",
    "plt.grid()\n",
    "plt.show()\n"
   ]
  },
  {
   "attachments": {},
   "cell_type": "markdown",
   "metadata": {},
   "source": [
    "## Next steps\n",
    "- afstemmen uitgangspunten met PBK\n",
    "- illustreren dat UC=1 -> beta iets hoger dan target 1.8 (~2.3)\n",
    "- restlevensduur nu gelijk aan referentieperiode 15 jaar, uitbreiden naar 30 jaar?\n",
    "- betere verdeling UC waarden bij oordeel voldoende \n",
    "- inbouwen 'hidden safety' (als conditionele kans op schade, gegeven overschrijden grenstoestand)\n",
    "- ... (zie PvA offerte)"
   ]
  }
 ],
 "metadata": {
  "kernelspec": {
   "display_name": "base",
   "language": "python",
   "name": "python3"
  },
  "language_info": {
   "codemirror_mode": {
    "name": "ipython",
    "version": 3
   },
   "file_extension": ".py",
   "mimetype": "text/x-python",
   "name": "python",
   "nbconvert_exporter": "python",
   "pygments_lexer": "ipython3",
   "version": "3.9.13"
  },
  "orig_nbformat": 4,
  "vscode": {
   "interpreter": {
    "hash": "ad2bdc8ecc057115af97d19610ffacc2b4e99fae6737bb82f5d7fb13d2f2c186"
   }
  }
 },
 "nbformat": 4,
 "nbformat_minor": 2
}
