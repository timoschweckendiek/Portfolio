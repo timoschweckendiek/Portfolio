{
 "cells": [
  {
   "attachments": {},
   "cell_type": "markdown",
   "metadata": {},
   "source": [
    "# Portfoliobenadering betrouwbaarheidseisen\n",
    "Faalfrequenties en betrouwbaarheidseisen voor grote aantallen vergelijkbare constructies in relatie tot de NEN 8700.\n",
    "\n",
    "## Uitgangspunten en definities"
   ]
  },
  {
   "attachments": {},
   "cell_type": "markdown",
   "metadata": {},
   "source": [
    "### Portfolio kademuren"
   ]
  },
  {
   "cell_type": "code",
   "execution_count": 108,
   "metadata": {},
   "outputs": [],
   "source": [
    "n_kades = 300  # aantal constructies ('onafhankelijke kademuren')\n",
    "aandeel_versterking = 0.1  # worden versterkt, dus niet meetellen\n",
    "n_con = int(round(n_kades * (1 - aandeel_versterking)))  # aantal te beschouwen constructies\n",
    "UC_range = np.array([0.7, 1.0])\n",
    "ref_period = 15\n",
    "p_cond_damage = 0.1"
   ]
  },
  {
   "attachments": {},
   "cell_type": "markdown",
   "metadata": {},
   "source": [
    "### Grenstoestandsfunctie\n",
    "$ Z = p * m_R * R - a_Q * m_Q * Q - (1 - a_Q) * G$\n",
    "\n",
    "met \n",
    "- $p$ = design parameter (verhouding sterkte/belasting)\n",
    "- $m_R$ = modelonzekerheid sterkte (tijdsonafhankelijk, volledig gecorreleerd in de tijd; volledige correlatie tussen constructies)\n",
    "- $R$ = sterkte (tijdsonafhankelijk, volledig gecorreleerd in de tijd; geen correlatie tussen constructies)\n",
    "- $a_Q$ = aandeel veranderlijke belasting ($=mu_Q/mu_G$)\n",
    "- $m_Q$ = modelonzekerheid veranderlijke belasting (tijdsonafhankelijk, volledig gecorreleerd in de tijd; volledige correlatie tussen constructies)\n",
    "- $Q$ = veranderlijke belasting (tijdsafhankelijk, ongecorreleerd tussen jaren; geen correlatie tussen constructies)\n",
    "- $G$ = permanente belasting (eigen gewicht; volledig gecorreleerd in de tijd; geen correlatie tussen constructies)"
   ]
  },
  {
   "cell_type": "code",
   "execution_count": 109,
   "metadata": {},
   "outputs": [],
   "source": [
    "def LimitStateFunction(p, mR, R, aQ, mQ, Q, G):\n",
    "    Z = p * mR * R - aQ *  mQ *Q - (1-aQ) * G\n",
    "    return Z"
   ]
  },
  {
   "attachments": {},
   "cell_type": "markdown",
   "metadata": {},
   "source": [
    "### Unity check\n",
    "$ UC = p * R_{kar} / \\gamma_R - a_Q * Q_{kar} * \\gamma_Q - (1 - a_Q) * G_{kar}$\n",
    "\n",
    "met \n",
    "- $p$ = design parameter (verhouding sterkte/belasting)\n",
    "- $R_{kar}$ = karakteristieke waarde sterkte (5%-kwantiel $R$)\n",
    "- $a_Q$ = aandeel veranderlijke belasting\n",
    "- $Q_{kar}$ = karakteristieke waarde veranderlijke belasting (98%-kwantiel $Q$)\n",
    "- $G_{kar}$ = karakteristieke waarde permanente belasting (50%-kwantiel $G$)"
   ]
  },
  {
   "cell_type": "code",
   "execution_count": 110,
   "metadata": {},
   "outputs": [],
   "source": [
    "from scipy.stats import norm\n",
    "\n",
    "def UnityCheck(p, V_R, gamma_R, V_Q, gamma_Q):\n",
    "    R_kar = 1 - 1.645 * V_R\n",
    "    Q_kar = norm.ppf(0.98, loc = 1, scale = V_Q)\n",
    "    G_kar = 1\n",
    "    UC = (aQ * Q_kar * gamma_Q + (1-aQ) * G_kar) / (p * R_kar / gamma_R)\n",
    "    return UC"
   ]
  },
  {
   "attachments": {},
   "cell_type": "markdown",
   "metadata": {},
   "source": [
    "Bepaal p for gegeven UC:"
   ]
  },
  {
   "cell_type": "code",
   "execution_count": 111,
   "metadata": {},
   "outputs": [],
   "source": [
    "def Get_P_for_UC(UC, V_R, gamma_R, V_Q, gamma_Q):\n",
    "    R_kar = 1 - 1.645 * V_R\n",
    "    Q_kar = norm.ppf(0.98, loc = 1, scale = V_Q)\n",
    "    G_kar = 1\n",
    "    p =  (aQ * Q_kar * gamma_Q + (1-aQ) * G_kar) / (UC * R_kar / gamma_R)\n",
    "    return p"
   ]
  },
  {
   "attachments": {},
   "cell_type": "markdown",
   "metadata": {},
   "source": [
    "### Variatiecoefficienten\n",
    "voor genormaliseerde stochasten (c.q. gemiddelden gelijk aan 1)"
   ]
  },
  {
   "cell_type": "code",
   "execution_count": 112,
   "metadata": {},
   "outputs": [],
   "source": [
    "V_mR = 0.12\n",
    "V_R = 0.15\n",
    "V_mQ = 0.1\n",
    "V_Q = 0.15\n",
    "V_G = 0.05"
   ]
  },
  {
   "attachments": {},
   "cell_type": "markdown",
   "metadata": {},
   "source": [
    "### Partiele factoren"
   ]
  },
  {
   "cell_type": "code",
   "execution_count": 113,
   "metadata": {},
   "outputs": [],
   "source": [
    "gamma_R = 1.1\n",
    "gamma_Q = 1.05"
   ]
  },
  {
   "attachments": {},
   "cell_type": "markdown",
   "metadata": {},
   "source": [
    "## Analyse\n",
    "### Keuze aQ en p, en bereken unity check (UC)"
   ]
  },
  {
   "cell_type": "code",
   "execution_count": 114,
   "metadata": {},
   "outputs": [],
   "source": [
    "aQ = 0.5  # verhouding veranderlijke versus permanente belasting\n",
    "p_range = Get_P_for_UC(UC_range, V_R, gamma_R, V_Q, gamma_Q)\n",
    "\n",
    "# p = 1.50  # design parameter ('verhouding sterkte versus belasting gemiddeld')\n",
    "#UC = UnityCheck(p, V_R, gamma_R, V_Q, gamma_Q)\n",
    "#print('UC = ', UC)"
   ]
  },
  {
   "attachments": {},
   "cell_type": "markdown",
   "metadata": {},
   "source": [
    "### Faalkansanalyse (MCS met numpy)\n",
    "#### Realisaties stochasten en bepalen faalkans en schadefrequentie"
   ]
  },
  {
   "cell_type": "code",
   "execution_count": 115,
   "metadata": {},
   "outputs": [
    {
     "name": "stdout",
     "output_type": "stream",
     "text": [
      "Aantal \"onafhankelijke\" voldoende constructies: 270\n",
      "Range UC-waarden bij voldoende (uniforme verdeling): [0.7 1. ]\n",
      "Pf (grenstoestand) per constructie (gemiddeld): 2.8e-03\n",
      "Beta per constructie (gemiddeld): 2.77\n",
      "Faalkans portfolio (per 15 jaar) \"onafhankelijk\": 0.53\n",
      "Faalkans portfolio (per 15 jaar) met correlatie: 0.29\n",
      "Verwachtingswaarde falen (per 15 jaar): 0.76\n",
      "Schadekans portfolio (per 15 jaar) 0.03\n",
      "Verwachtingswaarde schades (per 15 jaar): 0.08\n",
      "Verwachtingswaarde schades (per jaar): 0.005 (benadering)\n"
     ]
    }
   ],
   "source": [
    "import numpy as np\n",
    "\n",
    "n_mcs = int(5e+4)  # aantal realisaties in Monte Carlo analyse\n",
    "\n",
    "np.random.seed(None)\n",
    "UC = np.random.uniform(UC_range.min(), UC_range.max(), n_con)\n",
    "p = Get_P_for_UC(UC, V_R, gamma_R, V_Q, gamma_Q)\n",
    "mR = np.random.randn(n_mcs) * V_mR + 1.0\n",
    "R = np.random.randn(n_mcs, n_con) * V_R + 1.0\n",
    "mQ = np.random.randn(n_mcs) * V_mQ + 1.0\n",
    "Q = np.random.randn(n_mcs, n_con) * V_mQ + 1.0\n",
    "G = np.random.randn(n_mcs, n_con) * V_G + 1.0\n",
    "\n",
    "for con in range(0, n_con):\n",
    "    Zi = LimitStateFunction(p[con], mR, R[:,con], aQ, mQ, Q[:,con], G[:,con])\n",
    "    if con == 0:\n",
    "        Z = Zi\n",
    "    else:\n",
    "        # Z = np.append(Z, Zi).reshape((n_mcs, con+1)) # reshape werkt niet als bedoeld...\n",
    "        Z = np.column_stack((Z, Zi))\n",
    "\n",
    "Fail = Z<0\n",
    "Damage = p_cond_damage * Fail\n",
    "Pf_con = Fail.sum(axis=0)/n_mcs\n",
    "beta_con = norm.ppf(1-Pf_con)\n",
    "Pf_con_gem = np.average(Pf_con)\n",
    "beta_con_gem = norm.ppf(1-Pf_con_gem)\n",
    "\n",
    "Pf_port_onafh = 1 - np.prod((1-Pf_con))\n",
    "\n",
    "n_fail_port = Fail.sum(axis=1)\n",
    "Pf_port = sum(n_fail_port>0) / n_mcs \n",
    "EF_port = n_fail_port.sum(axis=0)/n_mcs\n",
    "\n",
    "PD_port = Pf_port * p_cond_damage\n",
    "ED_port = EF_port * p_cond_damage\n",
    "\n",
    "print('Aantal \"onafhankelijke\" voldoende constructies:', n_con )\n",
    "print('Range UC-waarden bij voldoende (uniforme verdeling):', UC_range)\n",
    "print('Pf (grenstoestand) per constructie (gemiddeld):', '{:.1e}'.format(Pf_con_gem))\n",
    "print('Beta per constructie (gemiddeld):', round(beta_con_gem,2))\n",
    "print('Faalkans portfolio (per 15 jaar) \"onafhankelijk\":', round(Pf_port_onafh,2))\n",
    "print('Faalkans portfolio (per 15 jaar) met correlatie:', round(Pf_port,2))\n",
    "print('Verwachtingswaarde falen (per 15 jaar):', round(EF_port,2))\n",
    "print('Schadekans portfolio (per 15 jaar)', round(PD_port,2))\n",
    "print('Verwachtingswaarde schades (per 15 jaar):', round(ED_port,2))\n",
    "print('Verwachtingswaarde schades (per jaar):', round(ED_port/ref_period, 3), '(benadering)') # benadering: F/n jaar"
   ]
  },
  {
   "attachments": {},
   "cell_type": "markdown",
   "metadata": {},
   "source": [
    "### Plot some results"
   ]
  },
  {
   "cell_type": "code",
   "execution_count": 117,
   "metadata": {},
   "outputs": [
    {
     "data": {
      "image/png": "[encoded data removed]",
      "text/plain": [
       "<Figure size 640x480 with 1 Axes>"
      ]
     },
     "metadata": {},
     "output_type": "display_data"
    }
   ],
   "source": [
    "import matplotlib.pyplot as plt\n",
    "\n",
    "def plot_loghist(x, bins):\n",
    "  hist, bins = np.histogram(x, bins=[1])\n",
    "  logbins = np.logspace(np.log10(bins[0]),np.log10(bins[-1]),len(bins))\n",
    "  plt.hist(x, bins=logbins)\n",
    "  plt.xscale('log')\n",
    "  \n",
    "fig, ax = plt.subplots()\n",
    "# plot_loghist(Pf_con, 10)\n",
    "# ax.set_xticks([1e-4, 1e-3, 1e-2, 0.1, 1])\n",
    "plt.scatter(UC,Pf_con)\n",
    "plt.yscale('log')\n",
    "ax.set_yticks([1e-3, 1e-2, 0.1, 1])\n",
    "plt.grid()\n",
    "plt.show()\n"
   ]
  },
  {
   "attachments": {},
   "cell_type": "markdown",
   "metadata": {},
   "source": [
    "## Next steps\n",
    "- afstemmen uitgangspunten met PBK\n",
    "- illustreren dat UC=1 -> beta iets hoger dan target 1.8 (~2.3)\n",
    "- betere verdeling UC waarden bij oordeel voldoende \n",
    "- inbouwen 'hidden safety' (als conditionele kans op schade, gegeven overschrijden grenstoestand)\n",
    "- ... (zie PvA offerte)"
   ]
  }
 ],
 "metadata": {
  "kernelspec": {
   "display_name": "base",
   "language": "python",
   "name": "python3"
  },
  "language_info": {
   "codemirror_mode": {
    "name": "ipython",
    "version": 3
   },
   "file_extension": ".py",
   "mimetype": "text/x-python",
   "name": "python",
   "nbconvert_exporter": "python",
   "pygments_lexer": "ipython3",
   "version": "3.9.13"
  },
  "orig_nbformat": 4,
  "vscode": {
   "interpreter": {
    "hash": "ad2bdc8ecc057115af97d19610ffacc2b4e99fae6737bb82f5d7fb13d2f2c186"
   }
  }
 },
 "nbformat": 4,
 "nbformat_minor": 2
}
