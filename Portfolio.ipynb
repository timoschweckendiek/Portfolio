{
 "cells": [
  {
   "attachments": {},
   "cell_type": "markdown",
   "metadata": {},
   "source": [
    "# Portfoliobenadering betrouwbaarheidseisen\n",
    "Faalfrequenties en betrouwbaarheidseisen voor grote aantallen vergelijkbare constructies in relatie tot de NEN 8700.\n",
    "\n",
    "## Uitgangspunten"
   ]
  },
  {
   "cell_type": "code",
   "execution_count": 1,
   "metadata": {},
   "outputs": [],
   "source": [
    "n_con = 10  # aantal constructies\n",
    "alpha_R = 0.8  # invloedscoefficient sterkte, inclusief modelonzekerheid\n",
    "beta_T = 1.8  # (doel)betrouwbaarheid individuele constructie\n"
   ]
  },
  {
   "attachments": {},
   "cell_type": "markdown",
   "metadata": {},
   "source": [
    "## Grenstoestandsfunctie\n",
    "$ Z = m_R * R - m_S * S $\n",
    "met \n",
    "- $m_R$ = modelonzekerheid sterkte (tijdsonafhankelijk, volledig gecorreleerd in de tijd; volledige correlatie tussen constructies)\n",
    "- $R$ = sterkte (tijdsonafhankelijk, volledig gecorreleerd in de tijd; geen correlatie tussen constructies)\n",
    "- $m_S$ = modelonzekerheid belasting (tijdsonafhankelijk, volledig gecorreleerd in de tijd; volledige correlatie tussen constructies)\n",
    "- $S$ = belasting (tijdsafhankelijk, ongecorreleerd tussen jaren; geen correlatie tussen constructies)"
   ]
  },
  {
   "attachments": {},
   "cell_type": "markdown",
   "metadata": {},
   "source": [
    "## Stochasten per constructie (genormaliseerd)"
   ]
  },
  {
   "cell_type": "code",
   "execution_count": 2,
   "metadata": {},
   "outputs": [
    {
     "data": {
      "text/plain": [
       "0.5999999999999999"
      ]
     },
     "execution_count": 2,
     "metadata": {},
     "output_type": "execute_result"
    }
   ],
   "source": [
    "import numpy as np\n",
    "alpha_S = np.sqrt(1 - alpha_R ** 2)\n",
    "V_R = \n",
    "V_S = "
   ]
  }
 ],
 "metadata": {
  "kernelspec": {
   "display_name": "base",
   "language": "python",
   "name": "python3"
  },
  "language_info": {
   "codemirror_mode": {
    "name": "ipython",
    "version": 3
   },
   "file_extension": ".py",
   "mimetype": "text/x-python",
   "name": "python",
   "nbconvert_exporter": "python",
   "pygments_lexer": "ipython3",
   "version": "3.9.13"
  },
  "orig_nbformat": 4,
  "vscode": {
   "interpreter": {
    "hash": "ad2bdc8ecc057115af97d19610ffacc2b4e99fae6737bb82f5d7fb13d2f2c186"
   }
  }
 },
 "nbformat": 4,
 "nbformat_minor": 2
}
